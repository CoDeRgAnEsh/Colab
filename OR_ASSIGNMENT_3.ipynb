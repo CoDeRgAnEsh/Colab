{
  "nbformat": 4,
  "nbformat_minor": 0,
  "metadata": {
    "colab": {
      "name": "OR_ASSIGNMENT_3",
      "provenance": [],
      "collapsed_sections": [],
      "authorship_tag": "ABX9TyOrR1LbyU+7Iyrr6nIzs59c",
      "include_colab_link": true
    },
    "kernelspec": {
      "name": "python3",
      "display_name": "Python 3"
    }
  },
  "cells": [
    {
      "cell_type": "markdown",
      "metadata": {
        "id": "view-in-github",
        "colab_type": "text"
      },
      "source": [
        "<a href=\"https://colab.research.google.com/github/CoDeRgAnEsh/Colab/blob/master/OR_ASSIGNMENT_3.ipynb\" target=\"_parent\"><img src=\"https://colab.research.google.com/assets/colab-badge.svg\" alt=\"Open In Colab\"/></a>"
      ]
    },
    {
      "cell_type": "markdown",
      "metadata": {
        "id": "G8PnePFrGX5D",
        "colab_type": "text"
      },
      "source": [
        "#OR Assignment - 3 \n",
        "\n",
        "\n",
        "\n",
        "[Assignment problem](https://en.wikipedia.org/wiki/Assignment_problem)\n",
        "\n",
        "[![Open In Colab](https://colab.research.google.com/assets/colab-badge.svg)](https://colab.research.google.com/github/CoDeRgAnEsh/Colab/blob/master/OR_ASSIGNMENT_3.ipynb)\n",
        "\n",
        "\n",
        "\n",
        "\n",
        "---\n",
        "\n",
        "\n",
        "\n",
        "Created by [Ganesh Kumar T K](https://github.com/coderganesh), MSM17B034\n",
        "\n",
        "Dept. of Smart Manufacturing,\n",
        "\n",
        "[IIITDM Kancheepuram](https://iiitdm.ac.in)\n",
        "\n",
        "---\n",
        "\n"
      ]
    },
    {
      "cell_type": "markdown",
      "metadata": {
        "id": "43H1SgLmGWzU",
        "colab_type": "text"
      },
      "source": [
        "Code base is built upon Python 3.7\n",
        "\n",
        "Works on Python == 3.4 +\n",
        "\n",
        "Libraries used:\n",
        "\n",
        "- copy - to deep copy matrix and array rows and cols.\n",
        "- numpy - handle larger array operations using  C wrapper.\n"
      ]
    },
    {
      "cell_type": "code",
      "metadata": {
        "id": "qyC_M8Jiu6jK",
        "colab_type": "code",
        "cellView": "form",
        "colab": {}
      },
      "source": [
        "#@title Implementation of Hungarian method. Run this to proceed (Double-click to view code)\n",
        "import copy\n",
        "\n",
        "# Zeros in the algorithm can be starred or primed, or neither\n",
        "NEITHER = 0\n",
        "STARRED = 1\n",
        "PRIMED = 2\n",
        "\n",
        "# Step 1\n",
        "# For each row, find the min in that row, and subtract it from every cell in\n",
        "# that row \n",
        "def subtractRowMinFromEachRow(grid):\n",
        "    for r in range(len(grid)):\n",
        "        min_ = min(grid[r])\n",
        "        for c in range(len(grid[r])):\n",
        "            grid[r][c] -= min_\n",
        "\n",
        "# Step 2\n",
        "# For each uncovered zero in the grid, add a star to it and then cover that row and column.\n",
        "# But then uncover all the rows and cols\n",
        "def starZeros(grid, grid_info, row_cover, col_cover):\n",
        "    for r in range(len(grid)):\n",
        "        for c in range(len(grid[r])):\n",
        "            if grid[r][c] == 0 and row_cover[r] == False and col_cover[c] == False:\n",
        "                grid_info[r][c] = STARRED\n",
        "                row_cover[r] = col_cover[c] = True\n",
        "\n",
        "    uncoverAll(row_cover, col_cover)\n",
        "\n",
        "# Step 3\n",
        "# Cover all the columns with starred zeros, and return the number of covered columns\n",
        "def coverColsWithStarredZeros(grid, grid_info, col_cover):\n",
        "    for r in range(len(grid)):\n",
        "        for c in range(len(grid[r])):\n",
        "            if grid_info[r][c] == STARRED:\n",
        "                # cover the column\n",
        "                col_cover[c] = True\n",
        "\n",
        "    covered_cnt = 0\n",
        "    for c in range(len(col_cover)):\n",
        "        if col_cover[c]:\n",
        "            covered_cnt += 1\n",
        "\n",
        "    return covered_cnt\n",
        "\n",
        "# Return the column of a starred zero in the specified row, or -1\n",
        "def isStarInRow(row, grid, grid_info):\n",
        "    for c in range(len(grid[row])):\n",
        "        if grid_info[row][c] == STARRED:\n",
        "            return c\n",
        "\n",
        "    return -1\n",
        "\n",
        "# Return the row of a starred zero in the specified column, or -1\n",
        "def isStarInCol(col, grid, grid_info):\n",
        "    for r in range(len(grid)):\n",
        "        if grid_info[r][col] == STARRED:\n",
        "            return r\n",
        "\n",
        "    return -1\n",
        "\n",
        "# Find an uncovered zero, and return it's row and column (-1 returned if one is not present)\n",
        "def findZero(grid, grid_info, row_cover, col_cover):\n",
        "    for r in range(len(grid)):\n",
        "        for c in range(len(grid[r])):\n",
        "            if grid[r][c] == 0 and row_cover[r] == False and col_cover[c] == False:\n",
        "                return r, c\n",
        "\n",
        "    return -1, -1\n",
        "\n",
        "# Step 4\n",
        "# Keep finding non covered zeros, prime them, and see if there is a starred zero in that row (that you found the non covered zero in).\n",
        "# If there is no starred zero in that row, return the row and column you just visited, otherwise mark the row as covered, and the column\n",
        "# you saw the starred zero in as covered\n",
        "def primeZeros(grid, grid_info, row_cover, col_cover):\n",
        "    while True:\n",
        "        r, c = findZero(grid, grid_info, row_cover, col_cover)\n",
        "        if r == -1:\n",
        "            return False\n",
        "\n",
        "        grid_info[r][c] = PRIMED\n",
        "        col_of_star = isStarInRow(r, grid, grid_info)\n",
        "        if col_of_star == -1:\n",
        "            return {'row' : r, 'col' : c}\n",
        "\n",
        "        row_cover[r] = True\n",
        "        col_cover[col_of_star] = False\n",
        "\n",
        "# Find the smallest number in the grid that is not covered\n",
        "def findSmallestUncoveredValue(grid, grid_info, row_cover, col_cover):\n",
        "    min_ = None\n",
        "    for r in range(len(grid)):\n",
        "        for c in range(len(grid[r])):\n",
        "            if row_cover[r] == 0 and col_cover[c] == 0 and (min_ == None or grid[r][c] < min_):\n",
        "                min_ = grid[r][c]\n",
        "\n",
        "    return min_\n",
        "\n",
        "# step 6\n",
        "# For each number in the grid, if it's row is covered, add the min to its value. \n",
        "# If the column is not covered, then subtract the min for it\n",
        "def applySmallestValue(grid, grid_info, row_cover, col_cover, min_):\n",
        "    for r in range(len(grid)):\n",
        "        for c in range(len(grid[0])):\n",
        "            if row_cover[r]:\n",
        "                grid[r][c] += min_\n",
        "            if not col_cover[c]:\n",
        "                grid[r][c] -= min_\n",
        "\n",
        "# Toggle the star in every point in the path\n",
        "def augmentPath(grid, grid_info, path):\n",
        "    for pair in path:\n",
        "        r = pair['row']\n",
        "        c = pair['col']\n",
        "        if grid_info[r][c] == STARRED:\n",
        "            grid_info[r][c] = NEITHER\n",
        "        else:\n",
        "            grid_info[r][c] = STARRED\n",
        "\n",
        "# Remove the prime from every primed item in the path\n",
        "def unprimeAll(grid_info):\n",
        "    for r in range(len(grid_info)):\n",
        "        for c in range(len(grid_info[r])):\n",
        "            if grid_info[r][c] == PRIMED:\n",
        "                grid_info[r][c] = NEITHER\n",
        "\n",
        "# Uncover all the rows and cols\n",
        "def uncoverAll(row_cover, col_cover):\n",
        "    for i in range(len(row_cover)):\n",
        "        row_cover[i] = False\n",
        "    for i in range(len(col_cover)):\n",
        "        col_cover[i] = False\n",
        "\n",
        "# Return the column of a primed zero in the specified row, or -1\n",
        "def isPrimeInRow(row, grid, grid_info):\n",
        "    for c in range(len(grid[row])):\n",
        "        if grid_info[row][c] == PRIMED:\n",
        "            return c\n",
        "\n",
        "    return -1\n",
        "\n",
        "# Step 5\n",
        "# Construct a series of alternating primed and starred zeros as follows.  Let Z0 represent the uncovered primed zero found in Step 4.  \n",
        "# Let Z1 denote the starred zero in the column of Z0 (if any). Let Z2 denote the primed zero in the row of Z1 (there will always be one).  \n",
        "# Continue until the series terminates at a primed zero that has no starred zero in its column.  \n",
        "# Unstar each starred zero of the series, star each primed zero of the series, erase all primes and uncover every line in the matrix.  \n",
        "# Return to Step 3. \n",
        "def pathStuff(grid, grid_info, row_cover, col_cover, pair):\n",
        "    path = []\n",
        "    path.append(pair)\n",
        "    done = False\n",
        "    while not done:\n",
        "        row = isStarInCol(path[-1]['col'], grid, grid_info)\n",
        "        if row > -1:\n",
        "            path.append({\"row\" : row, \"col\" : path[-1]['col']})\n",
        "        else:\n",
        "            done = True\n",
        "        if not done:\n",
        "            col = isPrimeInRow(path[-1]['row'], grid, grid_info)\n",
        "            path.append({\"row\" : path[-1]['row'], \"col\" : col})\n",
        "\n",
        "    augmentPath(grid, grid_info, path)\n",
        "    unprimeAll(grid_info)\n",
        "    uncoverAll(row_cover, col_cover)\n",
        "\n",
        "# For every element in the grid, set grid[r][c] = max_value_of_grid - grid[r][c]\n",
        "# This is the trick to turn hungarian minimization into maximization\n",
        "def normalize(grid):\n",
        "    max_ = grid[0][0]\n",
        "    for row in grid:\n",
        "        max_of_row = max(row)\n",
        "        if max_of_row > max_:\n",
        "            max_ = max_of_row\n",
        "\n",
        "    for r in range(len(grid)):\n",
        "        for c in range(len(grid[r])):\n",
        "            grid[r][c] = max_ - grid[r][c]\n",
        "    return max_\n",
        "\n",
        "# Transpose a grid\n",
        "def transpose(grid):\n",
        "    new_grid = []\n",
        "    for c in range(len(grid[0])):\n",
        "        new_grid.append([])\n",
        "        for r in range(len(grid)):\n",
        "            new_grid[c].append(grid[r][c])\n",
        "\n",
        "    return new_grid\n",
        "\n",
        "# Returns a matrix where an item is set to 1 if that row, col is part of the extrema\n",
        "def assign(grid):\n",
        "    # all rows and cols start off uncovered\n",
        "    row_cover = [False]*len(grid) \n",
        "    col_cover = [False]*len(grid[0])\n",
        "    # all numbers are non starred, and non primed\n",
        "    # 1 means it's starred, 2 means it's primed\n",
        "    grid_info = [[NEITHER]*len(grid[0]) for i in grid]\n",
        "    # exit when the number of covered zeros equals this\n",
        "    exit_condition = min(len(grid), len(grid[0])) \n",
        "            \n",
        "    # Step 1\n",
        "    subtractRowMinFromEachRow(grid)\n",
        "    # Step 2\n",
        "    starZeros(grid, grid_info, row_cover, col_cover)\n",
        "    cover = True\n",
        "    while True:\n",
        "        if cover:\n",
        "            # step 3\n",
        "            covered_cnt = coverColsWithStarredZeros(grid, grid_info, col_cover)\n",
        "            if covered_cnt >= exit_condition:\n",
        "                break\n",
        "    \n",
        "        # step 4\n",
        "        pair = primeZeros(grid, grid_info, row_cover, col_cover)\n",
        "        if pair:\n",
        "            # step 5\n",
        "            pathStuff(grid, grid_info, row_cover, col_cover, pair)\n",
        "            # go to step 3\n",
        "            cover = True\n",
        "        else:\n",
        "            # step 6\n",
        "            n = findSmallestUncoveredValue(grid, grid_info, row_cover, col_cover)\n",
        "            applySmallestValue(grid, grid_info, row_cover, col_cover, n)\n",
        "            # goto step 4\n",
        "            cover = False\n",
        "\n",
        "    return grid_info\n",
        "\n",
        "# Transpose the matrix (if it has more rows than cols)\n",
        "# And, if the method is maximization, perform the subtraction rule (the normalization function)\n",
        "def prepare(grid, method=\"max\"):\n",
        "    rows = len(grid)\n",
        "    cols = len(grid[0])\n",
        "    # The algo requires that the number of cols >= the number of rows\n",
        "    if rows > cols:\n",
        "        grid = transpose(grid)\n",
        "    working_copy = copy.deepcopy(grid)\n",
        "\n",
        "    # Make the adjustments for maximization \n",
        "    if method == \"max\":\n",
        "        normalize(working_copy)\n",
        "\n",
        "    return grid, working_copy\n",
        "\n",
        "# sum up the starred items in the grid\n",
        "def sum(grid, grid_info):\n",
        "    sum = 0\n",
        "    for r in range(len(grid_info)):\n",
        "        for c in range(len(grid_info[r])):\n",
        "            if grid_info[r][c] == STARRED:\n",
        "                sum += grid[r][c]\n",
        "\n",
        "    return sum\n",
        "\n",
        "# Return a list of the tuples (row, column,) that correspond to the extrema points\n",
        "def listPoints(grid_info):\n",
        "    rows = len(grid_info)\n",
        "    cols = len(grid_info[0])\n",
        "    # If we transposed the grid earlier, transpose it again to get the proper coordinates\n",
        "    if rows != cols:\n",
        "        grid_info = transpose(grid_info)\n",
        "\n",
        "    points = []\n",
        "    for r in range(len(grid_info)):\n",
        "        for c in range(len(grid_info[r])):\n",
        "            if grid_info[r][c] == STARRED:\n",
        "                points.append((r, c))\n",
        "\n",
        "    return points\n",
        "\n",
        "# Prepares the matrix for assignment, performs the assignment, and returns the extrema and list of points\n",
        "# where the extrema occur\n",
        "def solve(grid, method=\"min\"):\n",
        "    grid, working_copy = prepare(grid, method)\n",
        "    grid_info = assign(working_copy)\n",
        "    return sum(grid, grid_info), listPoints(grid_info)\n",
        "\n",
        "# convience methods\n",
        "def minimize(grid):\n",
        "    return solve(grid, \"min\") \n",
        "def maximize(grid):\n",
        "    return solve(grid, \"max\")"
      ],
      "execution_count": 0,
      "outputs": []
    },
    {
      "cell_type": "markdown",
      "metadata": {
        "id": "GAY1pzonJek1",
        "colab_type": "text"
      },
      "source": [
        "#1. \n",
        "\n",
        "Batsman replacement problem\n",
        "\n",
        "Since for replacement I'm adding dummy position\n",
        "\n",
        "\n",
        "|  Batsman \t|   I\t|   II\t|   III\t|  IV \t|   V\t|   Dummy\t|\n",
        "|:-:\t|:-:\t|:-:\t|:-:\t|:-:\t|:-:\t|:-:\t|\n",
        "|  P \t|  40 \t|  40 \t| 35  \t|  25 \t| 50  \t|   0\t|\n",
        "|   Q\t|   42\t|   30\t|   16\t|   25\t|   27\t|   0\t|\n",
        "|   R\t|  50 \t|   \t48|40   \t|   \t60|50   \t|   0\t|\n",
        "|   S\t|   20\t|   19\t|  20 \t|   18\t|  25 \t|   0\t|\n",
        "|   T\t|   \t58|  60 \t|   59\t|  55 \t|   53\t|   0\t|\n",
        "|   U\t|   \t45|52   \t|   \t38|50   \t|   \t49|   0\t|"
      ]
    },
    {
      "cell_type": "code",
      "metadata": {
        "id": "rvGckK7Ru9mj",
        "colab_type": "code",
        "outputId": "1b7ac268-78f4-4a8c-ad3c-604d940b8ae6",
        "colab": {
          "base_uri": "https://localhost:8080/",
          "height": 143
        }
      },
      "source": [
        "import numpy as np\n",
        "position = ['I', 'II', 'III', 'IV', 'V', 'Dummy']\n",
        "players = ['P', 'Q', 'R', 'S', 'T', 'U']\n",
        "\n",
        "grid =np.array([[40, 40, 35, 25, 50, 0], [42, 30, 16, 25, 27, 0], [50, 48, 40, 60, 50, 0], [20, 19, 20, 18, 25, 0], [58, 60, 59, 55, 53, 0],[45, 52, 38, 50, 49, 0 ]])\n",
        "#grid =np.array([[4, 6, 10, 5, 6], [7, 4, np.inf, 5, 4], [np.inf, 6, 9, 6, 2], [9, 3, 7, 2, 3], [0, 0, 0, 0, 0]])\n",
        "\n",
        "total, coordinates = maximize(grid)\n",
        "print (\"The optimal assignment of the amount of runs to complete all position is\", total)\n",
        "for (row, col) in coordinates:\n",
        "    print (\"Assign\", position[col], \"to\", players[row])"
      ],
      "execution_count": 0,
      "outputs": [
        {
          "output_type": "stream",
          "text": [
            "The optimal assignment of the amount of runs to complete all position is 263\n",
            "Assign V to P\n",
            "Assign I to Q\n",
            "Assign IV to R\n",
            "Assign Dummy to S\n",
            "Assign III to T\n",
            "Assign II to U\n"
          ],
          "name": "stdout"
        }
      ]
    },
    {
      "cell_type": "markdown",
      "metadata": {
        "id": "_4WsuEpWN9aN",
        "colab_type": "text"
      },
      "source": [
        "Therefore, U replaces S !"
      ]
    },
    {
      "cell_type": "markdown",
      "metadata": {
        "id": "jwco9N4POIZy",
        "colab_type": "text"
      },
      "source": [
        "#2. \n",
        "As the matix is non-square, adding dummy machine with Zero cost. \n",
        "\n",
        "> As M2 cannot be place at c and M3 cannot be placed at A, Assigning them infinite Cost\n",
        "\n",
        "|   Machine\t|   A\t|  B \t|   C\t|  D \t|  E \t|\n",
        "|:-:\t|:-:\t|:-:\t|:-:\t|:-:\t|:-:\t|\n",
        "|   M1\t|4   \t|   6\t|10   \t|   5\t|  6 \t|\n",
        "|   M2\t| 7  \t|   4\t|  INF \t|   5\t|   4\t|\n",
        "|   M3\t|  INF \t| 6  \t|   9\t|  6 \t|   2\t|\n",
        "|   M4\t|   \t9| 3  \t|   7\t| 2  \t|   3\t|\n",
        "|  Dummy|   \t0|0   \t| 0  \t| 0  \t| 0  \t|"
      ]
    },
    {
      "cell_type": "code",
      "metadata": {
        "id": "yMKq0mocPfDa",
        "colab_type": "code",
        "outputId": "c2f0fc15-99e0-4f76-d1ec-d9f40c572037",
        "colab": {
          "base_uri": "https://localhost:8080/",
          "height": 125
        }
      },
      "source": [
        "import numpy as np\n",
        "machine = ['I', 'II', 'III', 'IV', 'Dummy',]\n",
        "workers = ['A', 'B', 'C', 'D', 'E', 'F']\n",
        "\n",
        "#grid =np.array([[40, 40, 35, 25, 50, 0], [42, 30, 16, 25, 27, 0], [50, 48, 40, 60, 50, 0], [20, 19, 20, 18, 25, 0], [58, 60, 59, 55, 53, 0],[45, 52, 38, 50, 49, 0 ]])\n",
        "grid =np.array([[4, 6, 10, 5, 6], [7, 4, np.inf, 5, 4], [np.inf, 6, 9, 6, 2], [9, 3, 7, 2, 3], [0, 0, 0, 0, 0]])\n",
        "\n",
        "total, coordinates = minimize(grid)\n",
        "print (\"The optimal assignment of the amount of cost to complete all position is\", total)\n",
        "for (row, col) in coordinates:\n",
        "    print (\"Assign\", machine[col], \"to\", workers[row])"
      ],
      "execution_count": 0,
      "outputs": [
        {
          "output_type": "stream",
          "text": [
            "The optimal assignment of the amount of cost to complete all position is 12.0\n",
            "Assign I to A\n",
            "Assign II to B\n",
            "Assign Dummy to C\n",
            "Assign IV to D\n",
            "Assign III to E\n"
          ],
          "name": "stdout"
        }
      ]
    },
    {
      "cell_type": "markdown",
      "metadata": {
        "id": "LIT9jidxQISx",
        "colab_type": "text"
      },
      "source": [
        "#3. \n",
        "\n",
        "|  * \t|   M1\t| M2  \t| M3  \t| M4  \t|\n",
        "|:-:\t|:-:\t|:-:\t|:-:\t|:-:\t|\n",
        "|   J1\t|   5\t|  7 \t|  11 \t|  6 \t|\n",
        "|   \tJ2|  8 \t|  5 \t|   9\t|   6\t|\n",
        "|   J3\t| 4\t|   7\t|   10\t|   7\t|\n",
        "|   \tJ4|   10\t|  4 \t|  8 \t|   3\t|"
      ]
    },
    {
      "cell_type": "code",
      "metadata": {
        "id": "Dc4IbL0SRq8K",
        "colab_type": "code",
        "outputId": "eb306951-b0b3-429b-d7d0-901450ae780a",
        "colab": {
          "base_uri": "https://localhost:8080/",
          "height": 107
        }
      },
      "source": [
        "import numpy as np\n",
        "machine = ['M1', 'M2', 'M3', 'M4']\n",
        "jobs = ['J1', 'J2', 'J3', 'J4']\n",
        "\n",
        "grid =np.array([[5, 7, 11, 6], [8, 5, 9, 6], [4, 7, 10, 7], [10, 4, 8, 3]])\n",
        "\n",
        "total, coordinates = minimize(grid)\n",
        "print (\"The optimal assignment of the amount of cost to complete all position is\", total)\n",
        "for (row, col) in coordinates:\n",
        "    print (\"Assign\", machine[col], \"to\", jobs[row])"
      ],
      "execution_count": 0,
      "outputs": [
        {
          "output_type": "stream",
          "text": [
            "The optimal assignment of the amount of cost to complete all position is 23\n",
            "Assign M2 to J1\n",
            "Assign M3 to J2\n",
            "Assign M1 to J3\n",
            "Assign M4 to J4\n"
          ],
          "name": "stdout"
        }
      ]
    },
    {
      "cell_type": "markdown",
      "metadata": {
        "id": "MC3BdCPfSjK7",
        "colab_type": "text"
      },
      "source": [
        "#4.\n",
        "\n",
        "|  * \t|   M1\t| M2  \t| M3  \t| M4  \t|\n",
        "|:-:\t|:-:\t|:-:\t|:-:\t|:-:\t|\n",
        "|   J1\t|   15\t|  13 \t|  14 \t|  17 \t|\n",
        "|   \tJ2|  11 \t|  12 \t|   15\t|   13\t|\n",
        "|   J3\t| 13\t|   12\t|   10\t|   11\t|\n",
        "|   \tJ4|   15\t|  17 \t|  14 \t|   16\t|"
      ]
    },
    {
      "cell_type": "code",
      "metadata": {
        "id": "RvbpxiH-TFdg",
        "colab_type": "code",
        "outputId": "3555738f-87b8-4bdf-bc68-caab02d2969f",
        "colab": {
          "base_uri": "https://localhost:8080/",
          "height": 107
        }
      },
      "source": [
        "import numpy as np\n",
        "machine = ['M1', 'M2', 'M3', 'M4']\n",
        "jobs = ['J1', 'J2', 'J3', 'J4']\n",
        "\n",
        "grid =np.array([[15, 13, 14, 17], [11, 12, 15, 13], [13, 12, 10, 11], [15, 17, 14, 16]])\n",
        "\n",
        "total, coordinates = minimize(grid)\n",
        "print (\"The optimal assignment of *minimized* the amount of cost to complete all position is\", total)\n",
        "for (row, col) in coordinates:\n",
        "    print (\"Assign\", machine[col], \"to\", jobs[row])"
      ],
      "execution_count": 0,
      "outputs": [
        {
          "output_type": "stream",
          "text": [
            "The optimal assignment of *minimized* the amount of cost to complete all position is 49\n",
            "Assign M2 to J1\n",
            "Assign M1 to J2\n",
            "Assign M4 to J3\n",
            "Assign M3 to J4\n"
          ],
          "name": "stdout"
        }
      ]
    },
    {
      "cell_type": "markdown",
      "metadata": {
        "id": "sry9guSsUGQc",
        "colab_type": "text"
      },
      "source": [
        "#5. "
      ]
    },
    {
      "cell_type": "code",
      "metadata": {
        "id": "CssOWAaCTmLZ",
        "colab_type": "code",
        "outputId": "d47e2f09-f6bc-4232-f885-e54af6e94e47",
        "colab": {
          "base_uri": "https://localhost:8080/",
          "height": 107
        }
      },
      "source": [
        "import numpy as np\n",
        "machine = ['M1', 'M2', 'M3', 'M4']\n",
        "jobs = ['J1', 'J2', 'J3', 'J4']\n",
        "\n",
        "grid =np.array([[2, 3, 4, 5], [4, 5, 6, 7], [7, 8, 9, 8], [3, 5, 8, 4]])\n",
        "\n",
        "total, coordinates = minimize(grid)\n",
        "print (\"The optimal assignment of *minimized* the amount of cost to complete all position is\", total)\n",
        "for (row, col) in coordinates:\n",
        "    print (\"Assign\", machine[col], \"to\", jobs[row])"
      ],
      "execution_count": 0,
      "outputs": [
        {
          "output_type": "stream",
          "text": [
            "The optimal assignment of *minimized* the amount of cost to complete all position is 20\n",
            "Assign M3 to J1\n",
            "Assign M2 to J2\n",
            "Assign M4 to J3\n",
            "Assign M1 to J4\n"
          ],
          "name": "stdout"
        }
      ]
    },
    {
      "cell_type": "markdown",
      "metadata": {
        "id": "dWU3ky0wUJmL",
        "colab_type": "text"
      },
      "source": [
        "#6. "
      ]
    },
    {
      "cell_type": "code",
      "metadata": {
        "id": "KVWiK4L6UPMF",
        "colab_type": "code",
        "outputId": "d473334d-8e84-4b13-d46e-ae8eb6d4a2cb",
        "colab": {
          "base_uri": "https://localhost:8080/",
          "height": 125
        }
      },
      "source": [
        "import numpy as np\n",
        "machine = ['M1', 'M2', 'M3', 'M4','M5']\n",
        "jobs = ['J1', 'J2', 'J3', 'J4','J5']\n",
        "\n",
        "grid =np.array([[3,2,7,4,8], [5,4,3,8,5], [3,7,9,1,2], [4,2,6,5,7], [2,8,4,6,6]])\n",
        "\n",
        "total, coordinates = minimize(grid)\n",
        "print (\"The optimal assignment of *minimized* the amount of cost to complete all position is\", total)\n",
        "for (row, col) in coordinates:\n",
        "    print (\"Assign\", machine[col], \"to\", jobs[row])"
      ],
      "execution_count": 0,
      "outputs": [
        {
          "output_type": "stream",
          "text": [
            "The optimal assignment of *minimized* the amount of cost to complete all position is 13\n",
            "Assign M4 to J1\n",
            "Assign M3 to J2\n",
            "Assign M5 to J3\n",
            "Assign M2 to J4\n",
            "Assign M1 to J5\n"
          ],
          "name": "stdout"
        }
      ]
    },
    {
      "cell_type": "markdown",
      "metadata": {
        "id": "LOZBKSqPUs_h",
        "colab_type": "text"
      },
      "source": [
        "#7.\n",
        "# **(MAXIMIZE)**"
      ]
    },
    {
      "cell_type": "code",
      "metadata": {
        "id": "rDetfHWoUsPE",
        "colab_type": "code",
        "outputId": "12a166b0-50e6-4080-a716-29ef4f00ea51",
        "colab": {
          "base_uri": "https://localhost:8080/",
          "height": 107
        }
      },
      "source": [
        "import numpy as np\n",
        "products = ['A', 'B', 'C', 'D']\n",
        "operators = ['P', 'Q', 'R', 'S']\n",
        "\n",
        "grid =np.array([[240,300,225,300], [360,450,250,300], [144,180,150,200], [240,300,225,180]])\n",
        "\n",
        "total, coordinates = maximize(grid)\n",
        "print (\"The optimal assignment of *maximized* the amount of cost to complete all position is\", total)\n",
        "for (row, col) in coordinates:\n",
        "    print (\"Assign\", products[col], \"to\", operators[row])"
      ],
      "execution_count": 0,
      "outputs": [
        {
          "output_type": "stream",
          "text": [
            "The optimal assignment of *maximized* the amount of cost to complete all position is 1140\n",
            "Assign D to P\n",
            "Assign B to Q\n",
            "Assign C to R\n",
            "Assign A to S\n"
          ],
          "name": "stdout"
        }
      ]
    },
    {
      "cell_type": "markdown",
      "metadata": {
        "id": "KXg9D5XaVvUc",
        "colab_type": "text"
      },
      "source": [
        "#8."
      ]
    },
    {
      "cell_type": "code",
      "metadata": {
        "id": "0kQ6rIarVw-L",
        "colab_type": "code",
        "outputId": "593c83ef-2c92-483a-e2e8-9ea0156839db",
        "colab": {
          "base_uri": "https://localhost:8080/",
          "height": 197
        }
      },
      "source": [
        "import numpy as np\n",
        "products = ['A', 'B', 'C', 'D']\n",
        "operators = ['P', 'Q', 'R', 'S']\n",
        "\n",
        "grid =np.array([[2, 3, 4, 5], [4, 5, 6, 7], [7, 8, 9, 8], [3, 5, 8, 4]])\n",
        "\n",
        "total, coordinates = minimize(grid)\n",
        "print (\"The optimal assignment of *minimized* the amount of cost to complete all position is\", total)\n",
        "for (row, col) in coordinates:\n",
        "    print (\"Assign\", products[col], \"to\", operators[row])\n",
        "\n",
        "total, coordinates = maximize(grid)\n",
        "print (\"The optimal assignment of *maximized* the amount of cost to complete all position is\", total)\n",
        "for (row, col) in coordinates:\n",
        "    print (\"Assign\", products[col], \"to\", operators[row])"
      ],
      "execution_count": 0,
      "outputs": [
        {
          "output_type": "stream",
          "text": [
            "The optimal assignment of *minimized* the amount of cost to complete all position is 20\n",
            "Assign C to P\n",
            "Assign B to Q\n",
            "Assign D to R\n",
            "Assign A to S\n",
            "The optimal assignment of *maximized* the amount of cost to complete all position is 25\n",
            "Assign D to P\n",
            "Assign A to Q\n",
            "Assign B to R\n",
            "Assign C to S\n"
          ],
          "name": "stdout"
        }
      ]
    },
    {
      "cell_type": "markdown",
      "metadata": {
        "id": "bf-O-5qFYN2M",
        "colab_type": "text"
      },
      "source": [
        "#9."
      ]
    },
    {
      "cell_type": "code",
      "metadata": {
        "id": "aPWmd6XhWZwu",
        "colab_type": "code",
        "outputId": "ac067a58-e2b0-42e7-9410-c0fe99cdfa64",
        "colab": {
          "base_uri": "https://localhost:8080/",
          "height": 233
        }
      },
      "source": [
        "import numpy as np\n",
        "machine = ['M1', 'M2', 'M3', 'M4','M5']\n",
        "jobs = ['J1', 'J2', 'J3', 'J4','J5']\n",
        "\n",
        "grid =np.array([[10,5,13,15,16], [3,9,18,3,6], [10,7,2,2,2], [5,11,9,7,12], [7,9,10,4,12]])\n",
        "print ('The given matrix is:\\n', grid)\n",
        "total, coordinates = minimize(grid)\n",
        "print (\"The optimal assignment of *minimized* the amount of cost to complete all position is\", total)\n",
        "for (row, col) in coordinates:\n",
        "    print (\"Assign\", machine[col], \"to\", jobs[row])"
      ],
      "execution_count": 0,
      "outputs": [
        {
          "output_type": "stream",
          "text": [
            "The given matrix is:\n",
            " [[10  5 13 15 16]\n",
            " [ 3  9 18  3  6]\n",
            " [10  7  2  2  2]\n",
            " [ 5 11  9  7 12]\n",
            " [ 7  9 10  4 12]]\n",
            "The optimal assignment of *minimized* the amount of cost to complete all position is 22\n",
            "Assign M2 to J1\n",
            "Assign M5 to J2\n",
            "Assign M3 to J3\n",
            "Assign M1 to J4\n",
            "Assign M4 to J5\n"
          ],
          "name": "stdout"
        }
      ]
    },
    {
      "cell_type": "markdown",
      "metadata": {
        "id": "stR3gKPVYQsB",
        "colab_type": "text"
      },
      "source": [
        "#10."
      ]
    },
    {
      "cell_type": "code",
      "metadata": {
        "id": "YyR_q5DZYTYB",
        "colab_type": "code",
        "outputId": "bcb7d05e-1148-401d-bd71-eec52bfe2d01",
        "colab": {
          "base_uri": "https://localhost:8080/",
          "height": 125
        }
      },
      "source": [
        "import numpy as np\n",
        "position = ['I', 'II', 'III', 'IV', 'V']\n",
        "players = ['P', 'Q', 'R', 'S', 'T']\n",
        "\n",
        "grid =np.array([[10,3,3,2,8], [9,7,8,2,7], [7,5,6,2,4], [3,5,8,2,4], [9,10,9,6,10]])\n",
        "\n",
        "total, coordinates = maximize(grid)\n",
        "print (\"The optimal assignment of the amount of runs to complete all position is\", total)\n",
        "for (row, col) in coordinates:\n",
        "    print (\"Assign\", position[col], \"to\", players[row])"
      ],
      "execution_count": 0,
      "outputs": [
        {
          "output_type": "stream",
          "text": [
            "The optimal assignment of the amount of runs to complete all position is 37\n",
            "Assign V to P\n",
            "Assign I to Q\n",
            "Assign IV to R\n",
            "Assign III to S\n",
            "Assign II to T\n"
          ],
          "name": "stdout"
        }
      ]
    }
  ]
}